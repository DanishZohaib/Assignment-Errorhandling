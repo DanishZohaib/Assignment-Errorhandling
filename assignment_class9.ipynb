{
  "nbformat": 4,
  "nbformat_minor": 0,
  "metadata": {
    "colab": {
      "provenance": [],
      "authorship_tag": "ABX9TyPC/ClRhVDJE1HW8ecfElru",
      "include_colab_link": true
    },
    "kernelspec": {
      "name": "python3",
      "display_name": "Python 3"
    },
    "language_info": {
      "name": "python"
    }
  },
  "cells": [
    {
      "cell_type": "markdown",
      "metadata": {
        "id": "view-in-github",
        "colab_type": "text"
      },
      "source": [
        "<a href=\"https://colab.research.google.com/github/DanishZohaib/Assignments/blob/main/assignment_class9.ipynb\" target=\"_parent\"><img src=\"https://colab.research.google.com/assets/colab-badge.svg\" alt=\"Open In Colab\"/></a>"
      ]
    },
    {
      "cell_type": "markdown",
      "source": [
        "09.02.2025\n",
        "Local and Global Variable"
      ],
      "metadata": {
        "id": "i9si9nI2apVA"
      }
    },
    {
      "cell_type": "code",
      "source": [
        "num_x = 10   # Global Variable\n",
        "print(\"value of num_x outside function it's a Global Variable\", num_x)\n",
        "\n",
        "def hello():\n",
        "    num_x = 5  # Local variable\n",
        "    print(\"value of num_x inside function it's a Local Variable\", num_x) # 5 will be print\n",
        "    print(\"how are you\")\n",
        "hello()\n",
        "print(\"value of num_x outside function it's a Global Variable\", num_x) # 10 will be print"
      ],
      "metadata": {
        "colab": {
          "base_uri": "https://localhost:8080/"
        },
        "id": "yrryp1Y4ax9p",
        "outputId": "9434c48e-d909-458b-d665-e870d628f1b4"
      },
      "execution_count": 1,
      "outputs": [
        {
          "output_type": "stream",
          "name": "stdout",
          "text": [
            "value of num_x outside function it's a Global Variable 10\n",
            "value of num_x inside function it's a Local Variable 5\n",
            "how are you\n",
            "value of num_x outside function it's a Global Variable 10\n"
          ]
        }
      ]
    },
    {
      "cell_type": "code",
      "source": [
        "num_x = 10   # Global Variable\n",
        "print(\"value of num_x outside function it's a Global Variable\", num_x)\n",
        "\n",
        "def hello():\n",
        "    global num_x ; 5  # change local varibale to global variable\n",
        "    print(\"value of num_x inside function it's a Local Variable\", num_x) # 10 will be print as its converted into global\n",
        "    print(\"how are you\")\n",
        "hello()\n",
        "print(\"value of num_x outside function it's a Global Variable\", num_x) # 10 will be print"
      ],
      "metadata": {
        "colab": {
          "base_uri": "https://localhost:8080/"
        },
        "id": "UauNfwq4a3im",
        "outputId": "5d691abb-450d-4c06-b75f-7bfea4fe5e85"
      },
      "execution_count": 2,
      "outputs": [
        {
          "output_type": "stream",
          "name": "stdout",
          "text": [
            "value of num_x outside function it's a Global Variable 10\n",
            "value of num_x inside function it's a Local Variable 10\n",
            "how are you\n",
            "value of num_x outside function it's a Global Variable 10\n"
          ]
        }
      ]
    },
    {
      "cell_type": "markdown",
      "source": [
        "Error Handling\n",
        "(Try Except)"
      ],
      "metadata": {
        "id": "MDj3vaGpa9n4"
      }
    },
    {
      "cell_type": "code",
      "source": [
        "\n",
        "try:\n",
        "    user_input = int(input(\"Enter your number: \"))\n",
        "    for num in range(1,6):\n",
        "        print(f\"{user_input} x {num} = {user_input * num}\")\n",
        "except ValueError:\n",
        "    print(\"Please Enter Int. value\")"
      ],
      "metadata": {
        "colab": {
          "base_uri": "https://localhost:8080/"
        },
        "id": "gqhS0McWbC1m",
        "outputId": "b7fac297-6c43-4ef0-ba9c-2960fb4c2a5f"
      },
      "execution_count": 4,
      "outputs": [
        {
          "output_type": "stream",
          "name": "stdout",
          "text": [
            "Enter your number: f\n",
            "Please Enter Int. value\n"
          ]
        }
      ]
    },
    {
      "cell_type": "markdown",
      "source": [
        "PYTHON SETS\n",
        "1. Parenthisis diference {},\n",
        "2. Only store unique values,\n",
        "3. Unindexd item\n",
        "4. Unordered Item\n",
        "(add, remove, discard, pop, union, intersaction)"
      ],
      "metadata": {
        "id": "740cAdvxbKmE"
      }
    },
    {
      "cell_type": "code",
      "source": [
        "# Sets in python\n",
        "\n",
        "boys_set = {\"Danish\",\"Zohaib\",\"Bilal\",\"Arfeen\"}\n",
        "# print(len(boys_set))\n",
        "girls_set = {\"Hafsa\",\"Zara\",\"Areeba\",\"Aqsa\"}\n",
        "# print(type(girls_set))\n",
        "mix_data_set = {\"Pakistan\", 112, True, 1, 404, \"male\"}\n",
        "# print(len(mix_data_set))\n",
        "\n",
        "mix_data_set.update(boys_set) # update 2 sets\n",
        "print(mix_data_set)\n",
        "\n",
        "# mix_data_set.add(\"Asghar\")  # add item\n",
        "# print(mix_data_set)\n",
        "\n",
        "# boys_set.remove(\"akber\") #if item not exist then error will be show\n",
        "# print(boys_set)\n",
        "\n",
        "# boys_set.discard(\"akber\") # no errorif value not exist\n",
        "# print(boys_set)\n",
        "\n",
        "# x = mix_data_set.pop()  #rendom item removed\n",
        "# print(x)\n",
        "\n",
        "# mix_data_set.clear() # list will be cleared\n",
        "# print(mix_data_set)\n",
        "\n",
        "# del mix_data_set # set will be delete\n",
        "# print(mix_data_set)\n",
        "\n",
        "# girls_set.copy() # for making a copy of set\n",
        "# print(girls_set)\n"
      ],
      "metadata": {
        "colab": {
          "base_uri": "https://localhost:8080/"
        },
        "id": "ad_xJwPMbM3b",
        "outputId": "a37ed199-5507-4619-cf67-f9b9acb0ba56"
      },
      "execution_count": 5,
      "outputs": [
        {
          "output_type": "stream",
          "name": "stdout",
          "text": [
            "{True, 'Zohaib', 'male', 112, 'Danish', 'Arfeen', 404, 'Pakistan', 'Bilal'}\n"
          ]
        }
      ]
    },
    {
      "cell_type": "code",
      "source": [
        "set_1 = {1,2,3}\n",
        "set_2 = {3,4,5}\n",
        "\n",
        "result = set_1.union(set_2)\n",
        "print(result)\n",
        "\n",
        "result2 = set_1.intersection(set_2)\n",
        "print(result2)"
      ],
      "metadata": {
        "colab": {
          "base_uri": "https://localhost:8080/"
        },
        "id": "DFRjz9XJbTlL",
        "outputId": "ac6d9007-7d2d-4c4d-94a0-cec6551b7eaa"
      },
      "execution_count": 6,
      "outputs": [
        {
          "output_type": "stream",
          "name": "stdout",
          "text": [
            "{1, 2, 3, 4, 5}\n",
            "{3}\n"
          ]
        }
      ]
    },
    {
      "cell_type": "markdown",
      "source": [
        "DocString"
      ],
      "metadata": {
        "id": "TGHvDyoHbYRQ"
      }
    },
    {
      "cell_type": "code",
      "source": [
        "def addition(num1: int, num2: int) -> int:\n",
        "    \"\"\"takes two parameters and return their sum\"\"\"  #alwas in 1st line after function\n",
        "    return num1 + num2\n",
        "\n",
        "result = addition(2,2)\n",
        "print(addition.__doc__)\n",
        "print(result)"
      ],
      "metadata": {
        "colab": {
          "base_uri": "https://localhost:8080/"
        },
        "id": "q772UO6bbaJ1",
        "outputId": "56dcfc04-d018-4cc5-9b61-a9d69c37e876"
      },
      "execution_count": 7,
      "outputs": [
        {
          "output_type": "stream",
          "name": "stdout",
          "text": [
            "takes two parameters and return their sum\n",
            "4\n"
          ]
        }
      ]
    }
  ]
}